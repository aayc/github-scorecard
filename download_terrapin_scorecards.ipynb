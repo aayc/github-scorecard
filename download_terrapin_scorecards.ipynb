{
 "cells": [
  {
   "cell_type": "code",
   "execution_count": 1,
   "metadata": {},
   "outputs": [
    {
     "name": "stdout",
     "output_type": "stream",
     "text": [
      "Initial # Terrapin repos: 1818\n"
     ]
    },
    {
     "name": "stderr",
     "output_type": "stream",
     "text": [
      "207 success, 98 failed, reason: 2021/12/10 11:11:38 repo unreachable: GET https://api.github.com/repos/Matthewsr: : 7938it [1:14:21,  3.93s/it]"
     ]
    }
   ],
   "source": [
    "from tqdm import tqdm\n",
    "import json\n",
    "from util import get_scorecard, maybe_read_json_file\n",
    "import pandas as pd\n",
    "\n",
    "terrapin_db = pd.read_csv(\"./data/terrapin.csv\")\n",
    "terrapin_db = terrapin_db[terrapin_db[\"SrcRepo\"].notna()]\n",
    "terrapin_data = maybe_read_json_file(\"./terrapin-scores.json\")\n",
    "print(\"Initial # Terrapin repos:\", len(terrapin_data))\n",
    "\n",
    "n_failed = 0\n",
    "n_success = 0\n",
    "recent_reason = \"\"\n",
    "p_bar = tqdm(terrapin_db.iterrows())\n",
    "for _, row in p_bar:\n",
    "    p_bar.set_description(f\"{n_success} success, {n_failed} failed, reason: {recent_reason}\")\n",
    "    if row[\"SrcRepo\"] not in terrapin_data:\n",
    "        success, maybe_scorecard = get_scorecard(f\"github.com/{row['SrcRepo']}\")\n",
    "        if success:\n",
    "            terrapin_data[row[\"SrcRepo\"]] = maybe_scorecard\n",
    "            with open(\"./terrapin-scores.json\", \"w\") as f:\n",
    "                json.dump(terrapin_data, f)\n",
    "            n_success += 1\n",
    "        else:\n",
    "            n_failed += 1\n",
    "            recent_reason = maybe_scorecard[:80]\n",
    "\n"
   ]
  }
 ],
 "metadata": {
  "interpreter": {
   "hash": "6f75102065725b7a47f88f6ac50e2d5c4b456f29b75982daa9e06fb837cf86b9"
  },
  "kernelspec": {
   "display_name": "Python 3.8.10 64-bit ('env': venv)",
   "language": "python",
   "name": "python3"
  },
  "language_info": {
   "codemirror_mode": {
    "name": "ipython",
    "version": 3
   },
   "file_extension": ".py",
   "mimetype": "text/x-python",
   "name": "python",
   "nbconvert_exporter": "python",
   "pygments_lexer": "ipython3",
   "version": "3.8.10"
  },
  "orig_nbformat": 4
 },
 "nbformat": 4,
 "nbformat_minor": 2
}
